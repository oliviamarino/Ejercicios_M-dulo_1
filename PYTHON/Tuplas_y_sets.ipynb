{
 "cells": [
  {
   "cell_type": "code",
   "execution_count": 2,
   "metadata": {},
   "outputs": [
    {
     "name": "stdout",
     "output_type": "stream",
     "text": [
      "¡Comenzamos el juego!\n",
      "\n",
      "-|-|-\n",
      "-|-|-\n",
      "-|-|-\n",
      "\n",
      "La usuaria dio el input:  o 3,3\n",
      "\n",
      "-|-|-\n",
      "-|-|-\n",
      "-|-|o\n",
      "\n",
      "La usuaria dio el input  x 2,2\n",
      "\n",
      "-|-|-\n",
      "-|x|-\n",
      "-|-|o\n",
      "\n",
      "-- Terminamos el juego!-- Los 2 jugadores que han participado son  ['x', 'o']\n"
     ]
    }
   ],
   "source": [
    "# Definimos el tablero\n",
    "board = [ [\"-\", \"-\", \"-\"], [\"-\", \"-\", \"-\"], [\"-\", \"-\", \"-\"]]\n",
    "\n",
    "# Inicio del juego\n",
    "Bienvenida = (\"¡Comenzamos el juego!\")\n",
    "print(Bienvenida)\n",
    "\n",
    "# Imprimimos tablero\n",
    "def tablero():\n",
    "    print(board[0][0] + \"|\" + board[0][1] + \"|\" + board[0][2])\n",
    "    print(board[1][0] + \"|\" + board[1][1] + \"|\" + board[1][2])\n",
    "    print(board[2][0] + \"|\" + board[2][1] + \"|\" + board[2][2])\n",
    "    print()\n",
    "\n",
    "# Input de la usuaria\n",
    "input_usuaria1= input('Elige X o O y dos coordenadas de 1 al 3 separadas por una coma')\n",
    "print('La usuaria dio el input: ',input_usuaria1)\n",
    "\n",
    "symbol1, coor1 = input_usuaria1.split(' ') \n",
    "\n",
    "coor1 = tuple(int(num)-1 for num in coor1.split(\",\"))\n",
    "\n",
    "# Actualizar tablero\n",
    "board[coor1[0]][coor1[1]] = symbol1\n",
    "\n",
    "# Imprimir tablero\n",
    "tablero()\n",
    "\n",
    "# Input del usuario\n",
    "input_usuario2 = input(\"Escoge un símbolo y columna y fila del 1 al 3: Formatos ejemplo 'X 1,1' o 'O 3,1'\")\n",
    "print('La usuaria dio el input ', input_usuario2)\n",
    "symbol2, coor2 = input_usuario2.split(\" \")\n",
    "coor2 = tuple(int(co)-1 for co in coor2.split(\",\"))\n",
    "\n",
    "# Actualizar tablero\n",
    "board[coor2[0]][coor2[1]] = symbol2\n",
    "\n",
    "# Imprimir tablero\n",
    "tablero()\n",
    "\n",
    "# Convertir los caracteres del board a una sola lista\n",
    "board_list = sum(board,[])\n",
    "fin =[]\n",
    "\n",
    "# Sacar los elementos únicos que no sean \"-\"\n",
    "\n",
    "for posicion in board_list:\n",
    "   if posicion != \"-\":\n",
    "    fin.append(posicion)\n",
    "\n",
    "# Final del juego\n",
    "print(\"-- Terminamos el juego!-- Los 2 jugadores que han participado son \",fin)\n",
    "\n"
   ]
  }
 ],
 "metadata": {
  "interpreter": {
   "hash": "916dbcbb3f70747c44a77c7bcd40155683ae19c65e1c03b4aa3499c5328201f1"
  },
  "kernelspec": {
   "display_name": "Python 3.8.10 64-bit",
   "language": "python",
   "name": "python3"
  },
  "language_info": {
   "codemirror_mode": {
    "name": "ipython",
    "version": 3
   },
   "file_extension": ".py",
   "mimetype": "text/x-python",
   "name": "python",
   "nbconvert_exporter": "python",
   "pygments_lexer": "ipython3",
   "version": "3.8.10"
  },
  "orig_nbformat": 4
 },
 "nbformat": 4,
 "nbformat_minor": 2
}
