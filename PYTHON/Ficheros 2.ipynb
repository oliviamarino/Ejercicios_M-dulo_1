{
 "cells": [
  {
   "cell_type": "markdown",
   "metadata": {},
   "source": [
    "EJERCICIO 1: La función debe recibir 4 parámetros:\n",
    "Nombre del fichero, incluyendo la extensión.\n",
    "Como queremos leer el fichero.\n",
    "El encoding del fichero.\n",
    "El contenido que queremos escribir en el fichero.\n",
    "Condiciones de la función:\n",
    "Si el fichero no existe, debe crearlo, insertar contenido y mostrar su contenido.\n",
    "Si el fichero existe pregunta al usuario si quiere sobreescribirlo. En caso de Si, sobreescribe el fichero, insertad contenido y leedlo. En caso de No, no hace nada.\n",
    "💡 Pistas 💡\n",
    "Para chequear si un fichero existe, podemos usar la función os.listdir() que devuelve una lista con los nombres de los ficheros que hay en un directorio.\n",
    "Para crear un fichero, podemos usar la función open() que recibe como parámetros el nombre del fichero, el modo de apertura y el encoding.\n",
    "Para chequear si el fichero existe debéis usar los for loops y el método in para comprobar si el nombre del fichero está en la lista de ficheros.\n",
    "Usar un input para preguntar al usuario si quiere sobreescribir el fichero.\n",
    "Para sobreescribir el fichero, podemos usar la función open() que recibe como parámetros el nombre del fichero, el modo de apertura y el encoding.\n",
    "Strings que cubren más que una línea tienen que ser iniciados y cerrados con tres comillas \"\"\"."
   ]
  },
  {
   "cell_type": "code",
   "execution_count": 1,
   "metadata": {},
   "outputs": [
    {
     "name": "stdout",
     "output_type": "stream",
     "text": [
      "Nombre de tu archivo nuevo: Tatiana\n",
      "Contenido de tu archivo: Holi Tatiana!\n"
     ]
    }
   ],
   "source": [
    "#Ejercicio 1:\n",
    "\n",
    "import os\n",
    "\n",
    "def creamos_archivo(nombre, encoding, tipo_lectura, ponTuTexto):\n",
    "\n",
    "#Aqui vemos si el archivo existe o no. Si no existe preguntamos para crearlo.\n",
    "    if nombre in os.listdir():\n",
    "        print(nombre)\n",
    "    else:\n",
    "        pregunta = str(input('Este archivo no existe, ¿Quieres crearlo? Si/No'))\n",
    "        if pregunta == ('No'):\n",
    "            print('ok')\n",
    "        elif pregunta == ('Si'):\n",
    "#Ahora escribimos sobre el archivo y lo abrimos en el modo que se nos indica en la funcion.\n",
    "            with open(nombre,tipo_lectura, encoding = f\"{encoding}\") as f:\n",
    "                f.write(ponTuTexto)\n",
    "            with open(nombre) as f:\n",
    "                print('Nombre de tu archivo nuevo:', nombre)\n",
    "                print('Contenido de tu archivo:', f.read())\n",
    "\n",
    "\n",
    "creamos_archivo('Tatiana','UTF-8','w','Holi Tatiana!')\n",
    "\n"
   ]
  },
  {
   "cell_type": "code",
   "execution_count": 6,
   "metadata": {},
   "outputs": [],
   "source": [
    "#Ejercicio 2:\n",
    "import xml.etree.ElementTree as ET\n",
    "\n",
    "tree = ET.parse('peliculas.xml')\n",
    "root = tree.getroot()\n",
    "\n",
    "\n",
    "def funcionPeliculas():\n",
    "\n",
    "    for child in root:     \n",
    "        print(child.tag)\n",
    "        for subchild in child:\n",
    "            for subsubchild in subchild:\n",
    "                for subsubsubchild in subsubchild:\n",
    "                    if subsubsubchild.tag == 'year':\n",
    "                        print('    ', subsubsubchild.text)\n",
    "                    if subsubsubchild.tag == 'description':\n",
    "                        print('    ', subsubsubchild.text)\n",
    "                    \n"
   ]
  },
  {
   "cell_type": "code",
   "execution_count": 7,
   "metadata": {},
   "outputs": [
    {
     "name": "stdout",
     "output_type": "stream",
     "text": [
      "genre\n",
      "     1981\n",
      "     \n",
      "                'Archaeologist and adventurer Indiana Jones \n",
      "                is hired by the U.S. government to find the Ark of  the Covenant before the Nazis.'\n",
      "                \n",
      "     1984\n",
      "     None provided.\n",
      "     1985\n",
      "     Marty McFly\n",
      "     2000\n",
      "     Two mutants come to a private academy for their kind whose resident superhero team must oppose a terrorist organization with similar powers.\n",
      "     1992\n",
      "     NA.\n",
      "     1992\n",
      "     WhAtEvER I Want!!!?!\n",
      "genre\n",
      "     1979\n",
      "     \"\"\"\"\"\"\"\"\"\n",
      "     1986\n",
      "     Funny movie on funny guy \n",
      "     2000\n",
      "     psychopathic Bateman\n"
     ]
    }
   ],
   "source": [
    "#Aquí llamamos a la función.\n",
    "funcionPeliculas()"
   ]
  }
 ],
 "metadata": {
  "interpreter": {
   "hash": "916dbcbb3f70747c44a77c7bcd40155683ae19c65e1c03b4aa3499c5328201f1"
  },
  "kernelspec": {
   "display_name": "Python 3.8.10 64-bit",
   "language": "python",
   "name": "python3"
  },
  "language_info": {
   "codemirror_mode": {
    "name": "ipython",
    "version": 3
   },
   "file_extension": ".py",
   "mimetype": "text/x-python",
   "name": "python",
   "nbconvert_exporter": "python",
   "pygments_lexer": "ipython3",
   "version": "3.9.7"
  },
  "orig_nbformat": 4
 },
 "nbformat": 4,
 "nbformat_minor": 2
}
