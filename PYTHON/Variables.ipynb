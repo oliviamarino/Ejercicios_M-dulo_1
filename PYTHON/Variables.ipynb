{
 "cells": [
  {
   "cell_type": "code",
   "execution_count": 1,
   "metadata": {},
   "outputs": [
    {
     "name": "stdout",
     "output_type": "stream",
     "text": [
      "¡Comenzamos el juego!\n",
      "Tienes 3  intentos para adivinar el número entre 0 y 10\n",
      "Intento 1: 8\n",
      "Terminamos el juego, el numero era  1 ¿Lo adivinaste?\n"
     ]
    }
   ],
   "source": [
    "import math\n",
    "import random\n",
    "\n",
    "# Variables numéricas\n",
    "lim_inferior = (0)\n",
    "lim_superior = (10)\n",
    "\n",
    "# Cadenas fijas de texto\n",
    "Bienvenida = ('¡Comenzamos el juego!')\n",
    "Fin = ('Terminamos el juego, el numero era ')\n",
    "Pregunta = ('¿Lo adivinaste?')\n",
    "\n",
    "# User input\n",
    "intento = input()\n",
    "\n",
    "# Cantidades calculadas\n",
    "intentos_permitidos = round(math.log(lim_superior - lim_inferior + 1,2))\n",
    "numero_secreto = random.randint(lim_inferior,lim_superior)\n",
    "\n",
    "# Inicio del juego\n",
    "print(Bienvenida)\n",
    "print (\"Tienes\", intentos_permitidos,\" intentos para adivinar el número entre\", lim_inferior, \"y\" ,lim_superior)\n",
    "\n",
    "# Adivinar 1 intento\n",
    "print(\"Intento 1:\", intento)\n",
    "\n",
    "# Fin del juego\n",
    "print(Fin, numero_secreto, Pregunta)"
   ]
  }
 ],
 "metadata": {
  "interpreter": {
   "hash": "916dbcbb3f70747c44a77c7bcd40155683ae19c65e1c03b4aa3499c5328201f1"
  },
  "kernelspec": {
   "display_name": "Python 3.8.10 64-bit",
   "language": "python",
   "name": "python3"
  },
  "language_info": {
   "codemirror_mode": {
    "name": "ipython",
    "version": 3
   },
   "file_extension": ".py",
   "mimetype": "text/x-python",
   "name": "python",
   "nbconvert_exporter": "python",
   "pygments_lexer": "ipython3",
   "version": "3.8.10"
  },
  "orig_nbformat": 4
 },
 "nbformat": 4,
 "nbformat_minor": 2
}
