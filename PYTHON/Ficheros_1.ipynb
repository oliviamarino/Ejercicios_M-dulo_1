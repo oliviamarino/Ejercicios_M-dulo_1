{
 "cells": [
  {
   "cell_type": "markdown",
   "metadata": {},
   "source": [
    "EJERCICIO 1: Una funcion que: Nos muestre en que carpeta estamos trabajando.\n",
    "Cree una carpeta que se llame \"aprendiendo-ficheros\". ⚠️ Tened en cuenta que si la carpeta ya existe no la podemos crear, nos devolverá un error. Incluye en la función un programa que evite que nos de un error si la carpeta ya existe.\n",
    "Cree otra carpeta que se llame \"datos\" dentro de la carpeta \"aprendiendo-ficheros\". En esta carpeta \"datos\" guardaremos el fichero \"saludo.txt\" que os habéis descargado.\n",
    "Cambiad el directorio de trabajo a la carpeta \"datos\". Antes de seguir chequead que estáis trabajando en la carpeta \"datos\".\n",
    "Cambiad el nombre de la carpeta creada en el punto 2 a \"primera-toma-contacto\"\n",
    "\n",
    "PISTAS:\n",
    "- La función tendrá que recibir 3 parámetros:\n",
    "- El nombre de la primera carpeta\n",
    "- El nombre de la segunda carpeta\n",
    "- El nombre con el que queramos cambiar el nombre de la primera carpeta creada\n",
    "- Para saber si las carpetas ya existen tendréis que usar lstdir(recordad que nos devuelve una lista de ficheros y carpetas).\n",
    "- Para poder controlar los errores tendremos que usar un if loop, que si el fichero existe, nos devuelva un mensaje de que el fichero ya existe. En caso de que no exista, los deberéis crear y que la función nos muestre un mensaje de que se ha creado.\n",
    "- Tendréis que ir cambiando de directorio para poder crear las carpetas y cambiar sus nombres."
   ]
  },
  {
   "cell_type": "code",
   "execution_count": 21,
   "metadata": {},
   "outputs": [],
   "source": [
    "import os\n",
    "from os import getcwd, listdir\n",
    "import shutil      #Importamos shutil para mover la ubicacion de archivos.\n",
    "\n",
    "def primeraFuncion(carpeta_nueva_1, carpeta_datos, primera_toma_contacto):\n",
    "    \n",
    "    #1: ubicacion\n",
    "    ubicacion= os.getcwd()\n",
    "    print('Estás aquí:', ubicacion)\n",
    "    print('\\n')\n",
    "    \n",
    "    #2: crear carpeta 'aprendiendo_ficheros' + programa por si error.\n",
    "    if not os.path.exists(carpeta_nueva_1):\n",
    "        os.mkdir(carpeta_nueva_1)\n",
    "        print(\"Carpeta '{}' creada \".format(carpeta_nueva_1))\n",
    "    else:\n",
    "        print(\"La carpeta' {} 'ya existe\".format(carpeta_nueva_1))\n",
    "\n",
    "    #3: Crear carpeta 'Datos' dentro de 'aprendiendo_ficheros'.\n",
    "    ubicacion2= ubicacion + '/' + carpeta_nueva_1\n",
    "    os.chdir(ubicacion2)\n",
    "    os.mkdir(carpeta_datos)\n",
    "    print('Creamos la carpeta', carpeta_datos, 'dentro de la carpeta', carpeta_nueva_1, ':', listdir())\n",
    "    print('\\n')\n",
    "\n",
    "    os.chdir(ubicacion)  #Volvemos a nuestra ubicacion inicial.\n",
    "\n",
    "    #4: Guardamos el fichero saludo.txt en la carpeta 'Datos'.\n",
    "    origen = r'/home/adalaber/Escritorio/MODULO 1/PYTHON/10-FICHEROS 1/saludo.txt'\n",
    "    destino = r'/home/adalaber/Escritorio/MODULO 1/PYTHON/10-FICHEROS 1/aprendiendo_ficheros/Datos/saludo.txt'\n",
    "\n",
    "    mover = shutil.move(origen,destino)\n",
    "    print('Movemos archivo \"saludo.txt\":', mover)\n",
    "    print('\\n')\n",
    "\n",
    "    #Renombramos 'aprendiendo_ficheros' a 'primera-toma-contacto'\n",
    "    os.rename('aprendiendo_ficheros',primera_toma_contacto)\n",
    "    print('Hemos cambiado el nombre de \"aprendiendo_ficheros\" a \"primera-toma-contacto\":',os.listdir())"
   ]
  },
  {
   "cell_type": "code",
   "execution_count": 22,
   "metadata": {},
   "outputs": [
    {
     "name": "stdout",
     "output_type": "stream",
     "text": [
      "Estás aquí: /home/adalaber/Escritorio/MODULO 1/PYTHON/10-FICHEROS 1\n",
      "\n",
      "\n",
      "Carpeta 'aprendiendo_ficheros' creada \n",
      "Creamos la carpeta Datos dentro de la carpeta aprendiendo_ficheros : ['Datos']\n",
      "\n",
      "\n",
      "Movemos archivo \"saludo.txt\": /home/adalaber/Escritorio/MODULO 1/PYTHON/10-FICHEROS 1/aprendiendo_ficheros/Datos/saludo.txt\n",
      "\n",
      "\n",
      "Hemos cambiado el nombre de \"aprendiendo_ficheros\" a \"primera-toma-contacto\": ['primera-toma-contacto', 'ejercicio_pair_programming_ficheros_1.ipynb', '.ipynb_checkpoints', 'pair_ficheros_1.ipynb', 'archivos_txt', 'leccion_ficheros_1.ipynb']\n"
     ]
    }
   ],
   "source": [
    "#Desde aquí llamamos a la función.\n",
    "primeraFuncion('aprendiendo_ficheros', 'Datos')"
   ]
  },
  {
   "cell_type": "code",
   "execution_count": null,
   "metadata": {},
   "outputs": [],
   "source": [
    "#Usamos esta parte en caso de que queramos volver a nuestra ubicacion inicial, \n",
    "# llamar a la funcion y crear las carpetas de nuevo.\n",
    "\n",
    "import os\n",
    "\n",
    "os.chdir('/home/adalaber/Escritorio/MODULO 1/PYTHON/10-FICHEROS 1')\n",
    "os.getcwd()"
   ]
  },
  {
   "cell_type": "markdown",
   "metadata": {},
   "source": [
    "EJERCICIO 2:\n",
    "Lea el fichero que se llame \"saludo.txt y muestre su contenido completo.\n",
    "Muestra la línea 4 del fichero\n",
    "\n",
    "💡 Pistas para resolver este ejercicio 💡\n",
    "Antes de empezar, tendréis que saber cuál es vuestro directorio de trabajo.\n",
    "Tened en cuenta en que carpeta estáis. Si vuestro directorio de trabajo no es \"datos\" tendréis que cambiarlo o poner la ruta relativa a la carpeta \"datos\".\n",
    "Usar if... else para evitar que se nos pare el código.\n",
    "Para cambiar el fichero podréis usar el comando input para preguntar el usuario donde está el fichero y que se pueda usar la ruta relativa o absoluta."
   ]
  },
  {
   "cell_type": "code",
   "execution_count": 23,
   "metadata": {},
   "outputs": [
    {
     "name": "stdout",
     "output_type": "stream",
     "text": [
      "['saludo.txt']\n",
      "Hola Adalabers!!!\n",
      "\n",
      "Estamos en la sesión de pair-programming para familiarizarnos con la gestión de carpetas y ficheros desde Python 🙂🌊\n",
      "\n",
      "Esto esta siendo suuuper divertidooooo\n",
      "\n",
      "\n",
      "Estamos en la sesión de pair-programming para familiarizarnos con la gestión de carpetas y ficheros desde Python 🙂🌊\n",
      "\n"
     ]
    }
   ],
   "source": [
    "import os\n",
    "from os import getcwd, listdir\n",
    "os.getcwd()\n",
    "\n",
    "\n",
    "#Ubicamos archivo\n",
    "\n",
    "ubi_carpeta = '/home/adalaber/Escritorio/MODULO 1/PYTHON/10-FICHEROS 1/primera-toma-contacto/Datos'\n",
    "conts = listdir('/home/adalaber/Escritorio/MODULO 1/PYTHON/10-FICHEROS 1/primera-toma-contacto/Datos')\n",
    "print(conts)\n",
    "\n",
    "nom_archivo = 'saludo.txt'\n",
    "ubi_archivo = '/home/adalaber/Escritorio/MODULO 1/PYTHON/10-FICHEROS 1/primera-toma-contacto/Datos/saludo.txt'\n",
    "ubi_archivo = ubi_carpeta + '/' + nom_archivo\n",
    "ubi_archivo = ubi_carpeta + '/' + conts[conts.index('saludo.txt')]\n",
    "\n",
    "\n",
    "#Leemos archivo completo\n",
    "with open(ubi_archivo, encoding='utf-8') as f:\n",
    "    texto_archivo = f.read()\n",
    "\n",
    "print(texto_archivo)\n",
    "print('\\n')\n",
    "\n",
    "\n",
    "#Leer la 4ª línea\n",
    "f = open(ubi_archivo)\n",
    "lineas_archivo = f.readlines()\n",
    "f.close()\n",
    "\n",
    "print(lineas_archivo[2]) #Como la línea 4 está vacía hemos elegido la anterior.\n"
   ]
  }
 ],
 "metadata": {
  "interpreter": {
   "hash": "916dbcbb3f70747c44a77c7bcd40155683ae19c65e1c03b4aa3499c5328201f1"
  },
  "kernelspec": {
   "display_name": "Python 3.8.10 64-bit",
   "language": "python",
   "name": "python3"
  },
  "language_info": {
   "codemirror_mode": {
    "name": "ipython",
    "version": 3
   },
   "file_extension": ".py",
   "mimetype": "text/x-python",
   "name": "python",
   "nbconvert_exporter": "python",
   "pygments_lexer": "ipython3",
   "version": "3.9.7"
  },
  "orig_nbformat": 4
 },
 "nbformat": 4,
 "nbformat_minor": 2
}
