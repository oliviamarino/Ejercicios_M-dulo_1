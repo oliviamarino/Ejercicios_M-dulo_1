{
 "cells": [
  {
   "cell_type": "code",
   "execution_count": 1,
   "metadata": {},
   "outputs": [
    {
     "name": "stdout",
     "output_type": "stream",
     "text": [
      "-- ¡Comenzamos el juego! --\n",
      "\n",
      "Elige una de las siguientes categorias, usando su número.\n",
      "1.Colors 2.Shapes 3.Fruits 4.Animals\n",
      "Elegiste la categoria 1\n",
      "\n",
      "Adivina una palabra de la categoria\n",
      "Elegiste la palabra blue\n",
      "Era la palabra que buscabamos? -->\n",
      " False\n",
      "\n",
      "-- Terminamos el juego. La palabra era green  --\n"
     ]
    }
   ],
   "source": [
    "import random\n",
    "\n",
    "words = {'Colors':'red orange yellow green blue indigo violet white black brown'.split(),\n",
    "'Shapes':'square triangle rectangle circle ellipse rhombus trapezoid chevron pentagon hexagon septagon octagon'.split(),\n",
    "'Fruits':'apple orange lemon lime pear watermelon grape grapefruit cherry banana cantaloupe mango strawberry tomato'.split(),\n",
    "'Animals':'bat bear beaver cat cougar crab deer dog donkey duck eagle fish frog goat leech lion lizard monkey moose mouse otter owl panda python rabbit rat shark sheep skunk squid tiger turkey turtle weasel whale wolf wombat zebra'.split()}\n",
    "\n",
    "# Variables predefinidas\n",
    "bienvenida = (\"-- ¡Comenzamos el juego! --\\n\")\n",
    "categorias = list(words.keys()) #lo convertimos a lista\n",
    "instrucciones = \"Elige una de las siguientes categorias, usando su número.\\n1.\"+ categorias[0] +\" 2.\"+ categorias[1] + \" 3.\"+ categorias[2] + \" 4.\"+ categorias[3]\n",
    "input_categoria = int(input(\"Introduce el número de la categoría\"))\n",
    "input_palabra = input(\"Adivina una palabra de la categoria\")\n",
    "\n",
    "# Inicio del juego\n",
    "print(bienvenida)\n",
    "print(instrucciones)\n",
    "\n",
    "# Elegir una categoria\n",
    "print(\"Elegiste la categoria\", input_categoria)\n",
    "\n",
    "# El ordenador elige una palabra de la categoria\n",
    "word_list = words.get(categorias[input_categoria-1])\n",
    "word_secreta = random.randint(0, len(word_list)-1)\n",
    "\n",
    "# Adivinar una palabra\n",
    "print(\"\\nAdivina una palabra de la categoria\")\n",
    "print(\"Elegiste la palabra\",input_palabra)\n",
    "\n",
    "# Era la palabra aleatoria?\n",
    "word_win = word_list[word_secreta]\n",
    "print(\"Era la palabra que buscabamos? -->\\n\", input_palabra == word_win)\n",
    "\n",
    "# Fin del juego\n",
    "print(\"\\n-- Terminamos el juego. La palabra era\", word_win, \" --\")\n",
    "\n"
   ]
  }
 ],
 "metadata": {
  "interpreter": {
   "hash": "916dbcbb3f70747c44a77c7bcd40155683ae19c65e1c03b4aa3499c5328201f1"
  },
  "kernelspec": {
   "display_name": "Python 3.8.10 64-bit",
   "language": "python",
   "name": "python3"
  },
  "language_info": {
   "codemirror_mode": {
    "name": "ipython",
    "version": 3
   },
   "file_extension": ".py",
   "mimetype": "text/x-python",
   "name": "python",
   "nbconvert_exporter": "python",
   "pygments_lexer": "ipython3",
   "version": "3.8.10"
  },
  "orig_nbformat": 4
 },
 "nbformat": 4,
 "nbformat_minor": 2
}
