{
 "cells": [
  {
   "cell_type": "markdown",
   "metadata": {},
   "source": [
    "EJERCICIO 1. Vamos a crear una \"Calculadora de puntos\". Tenéis que escribir una calculadora que reciba cadenas de caracteres como entrada. Los puntos representarán el número de la ecuación. Habrá puntos en un lado, un operador, y puntos de nuevo después del oparador. Los puntos y el operador estarán separados por un espacio."
   ]
  },
  {
   "cell_type": "code",
   "execution_count": 2,
   "metadata": {},
   "outputs": [
    {
     "name": "stdout",
     "output_type": "stream",
     "text": [
      "..... + .. = .......\n"
     ]
    }
   ],
   "source": [
    "#Ejercicio 1:\n",
    "operacion = input('Elige una opción: 1=SUMAR, 2=RESTAR, 3=MULTIPLICAR, 4=DIVIDIR')\n",
    "\n",
    "#Aquí pedimos elegir el tipo de operación.\n",
    "if operacion in ('1', '2', '3', '4'):\n",
    "    num1 = int(input('Dime un número'))\n",
    "    num2 = int(input('Dime otro número'))\n",
    "\n",
    "#Convertimos los números en puntos.\n",
    "    puntos1 ='.' * num1\n",
    "    puntos2 = '.' * num2\n",
    "\n",
    "#Según la opción anterior damos instruciones para las operaciones.\n",
    "    if operacion == '1':\n",
    "        print(puntos1, '+', puntos2, '=', (len(puntos1)+len(puntos2))*'.')\n",
    "\n",
    "    elif operacion == '2':\n",
    "        print(puntos1, '-', puntos2, '=', (len(puntos1)- len(puntos2))*'.')\n",
    "\n",
    "    elif operacion == '3':\n",
    "        print(puntos1, '*', puntos2, '=', (len(puntos1)* len(puntos2))*'.')\n",
    "\n",
    "    elif operacion == '4':\n",
    "        print(puntos1, '/', puntos2, '=', (len(puntos1)//len(puntos2))*'.')\n",
    "        \n",
    "#En caso de que lo que el usuario introdujese no fuese un número devolvera una frase.  \n",
    "else:\n",
    "    print('Lo que has puesto no me vale.')"
   ]
  },
  {
   "cell_type": "markdown",
   "metadata": {},
   "source": [
    "EJERCICIO 2. Te despides de tu mejor amigo, \"Nos vemos el próximo año\".\n",
    "Vuestro trabajo: Dado un año, encuentra el próximo cumpleaños o el año más cercano en que verás a tu mejor amigo.\n",
    "Condiciones\n",
    "Año por supuesto siempre positivo .\n",
    "El siguiente año que le felicites a tu mejor amigo no puede tener ningún dígito repetido."
   ]
  },
  {
   "cell_type": "code",
   "execution_count": 6,
   "metadata": {},
   "outputs": [
    {
     "ename": "TypeError",
     "evalue": "'int' object is not iterable",
     "output_type": "error",
     "traceback": [
      "\u001b[0;31m---------------------------------------------------------------------------\u001b[0m",
      "\u001b[0;31mTypeError\u001b[0m                                 Traceback (most recent call last)",
      "\u001b[1;32m/home/adalaber/Escritorio/MODULO 1/PYTHON/9-FUNCIONES 2/ejercicio_pair_programming_funciones_2.ipynb Cell 4'\u001b[0m in \u001b[0;36m<cell line: 5>\u001b[0;34m()\u001b[0m\n\u001b[1;32m      <a href='vscode-notebook-cell:/home/adalaber/Escritorio/MODULO%201/PYTHON/9-FUNCIONES%202/ejercicio_pair_programming_funciones_2.ipynb#ch0000003?line=0'>1</a>\u001b[0m año_1 \u001b[39m=\u001b[39m \u001b[39mint\u001b[39m(\u001b[39minput\u001b[39m(\u001b[39m'\u001b[39m\u001b[39m¿En qué año estás?\u001b[39m\u001b[39m'\u001b[39m))\n\u001b[1;32m      <a href='vscode-notebook-cell:/home/adalaber/Escritorio/MODULO%201/PYTHON/9-FUNCIONES%202/ejercicio_pair_programming_funciones_2.ipynb#ch0000003?line=2'>3</a>\u001b[0m año_2 \u001b[39m=\u001b[39m año_1\n\u001b[0;32m----> <a href='vscode-notebook-cell:/home/adalaber/Escritorio/MODULO%201/PYTHON/9-FUNCIONES%202/ejercicio_pair_programming_funciones_2.ipynb#ch0000003?line=4'>5</a>\u001b[0m \u001b[39mfor\u001b[39;00m numeros \u001b[39min\u001b[39;00m año_1:\n\u001b[1;32m      <a href='vscode-notebook-cell:/home/adalaber/Escritorio/MODULO%201/PYTHON/9-FUNCIONES%202/ejercicio_pair_programming_funciones_2.ipynb#ch0000003?line=6'>7</a>\u001b[0m     \u001b[39mwhile\u001b[39;00m año_1\u001b[39m.\u001b[39mcount(\u001b[39mstr\u001b[39m(numeros)) \u001b[39m==\u001b[39m \u001b[39m1\u001b[39m:\n\u001b[1;32m      <a href='vscode-notebook-cell:/home/adalaber/Escritorio/MODULO%201/PYTHON/9-FUNCIONES%202/ejercicio_pair_programming_funciones_2.ipynb#ch0000003?line=7'>8</a>\u001b[0m             año_2 \u001b[39m+\u001b[39m\u001b[39m=\u001b[39m \u001b[39m1\u001b[39m\n",
      "\u001b[0;31mTypeError\u001b[0m: 'int' object is not iterable"
     ]
    }
   ],
   "source": [
    "#Ejercicio 2: Hemos tratado de resolverlo pero no hemos sido capaces.\n",
    "\n",
    "año_1 = int(input('¿En qué año estás?'))\n",
    "\n",
    "año_2 = año_1\n",
    "\n",
    "while año_1.count(numeros) == 1:\n",
    "            año_2 += 1\n",
    "        \n",
    "print(año_2)\n"
   ]
  },
  {
   "cell_type": "markdown",
   "metadata": {},
   "source": [
    "EJERCICIO 3: Tenéis que crear un función que chequee la vida de un evaporador que contiene un gas.\n",
    "Conocemos el contenido del evaporador (contenido en ml), el porcentaje de gas que se pierde cada día y el umbral en porcentaje a partir del cual el evaporador deja de ser útil. Todos los números serán estrictamente positivos.\n",
    "⚠️ Nota: el contenido no es, de hecho, necesario en el cuerpo de la función, podéis utilizarlo o no."
   ]
  },
  {
   "cell_type": "code",
   "execution_count": 19,
   "metadata": {},
   "outputs": [
    {
     "name": "stdout",
     "output_type": "stream",
     "text": [
      "A partir del día 24 no se podrá usar\n"
     ]
    }
   ],
   "source": [
    "#Ejercicio 3:\n",
    "\n",
    "def diasQueTardara(ml_totales, ml_por_dia, porcentaje_inutil):\n",
    "   \n",
    "    ml_porcentaje = (ml_totales*porcentaje_inutil)/100 #----> ml del porcentaje inutil\n",
    "    \n",
    "    ml_usables = ml_totales - ml_porcentaje # ----> ml que podemos usar\n",
    "    \n",
    "    dias_usables = ml_usables/ml_por_dia #--------> dias que podremos usar el evaporador\n",
    "    \n",
    "    print('A partir del día', int(dias_usables), 'no se podrá usar')  #---> ponemos int para redondear\n",
    "\n",
    "diasQueTardara(630, 24, 8)\n",
    "\n",
    "\n"
   ]
  },
  {
   "cell_type": "markdown",
   "metadata": {},
   "source": [
    "EJERCICIO 4. Definid una función que tome como argumento un entero y devuelva True o False dependiendo de si el número es primo o no.\n",
    "Según la Wikipedia, un número primo es un número natural mayor que 1 que no tiene divisores positivos más que 1 y él mismo."
   ]
  },
  {
   "cell_type": "code",
   "execution_count": 13,
   "metadata": {},
   "outputs": [
    {
     "name": "stdout",
     "output_type": "stream",
     "text": [
      "¿El número 8 es primo?\n"
     ]
    },
    {
     "data": {
      "text/plain": [
       "False"
      ]
     },
     "execution_count": 13,
     "metadata": {},
     "output_type": "execute_result"
    }
   ],
   "source": [
    "#EJERCICIO 4:\n",
    "\n",
    "def numero_primo(numero):\n",
    "    \n",
    "    print('¿El número', numero, 'es primo?')\n",
    "    \n",
    "    if numero < 1:\n",
    "        return False\n",
    "    else:\n",
    "        for num in range(2,numero):     #Dividimos el número entre los números del range. \n",
    "            if numero % num == 0:       #Si da de residuo 0 con alguno no es primo.\n",
    "                return False\n",
    "        return True \n",
    "\n",
    "    \n",
    "numero_primo(8)"
   ]
  },
  {
   "cell_type": "markdown",
   "metadata": {},
   "source": [
    "EJERCICIO 5: \n",
    "Probablemente conozcais el sistema de \"me gusta\" de Facebook y otras páginas. La gente puede dar \"me gusta\" a las publicaciones del blog, a las imágenes o a otros elementos. Queremos crear el texto que debe mostrarse junto a dicho elemento.\n",
    "Cread una función que toma una lista que contiene los nombres de las personas a las que les gusta un artículo.\n",
    "\n",
    "Nota: Para 4 o más nombres, el número en \"y otros 2\" simplemente aumenta."
   ]
  },
  {
   "cell_type": "code",
   "execution_count": 11,
   "metadata": {},
   "outputs": [
    {
     "name": "stdout",
     "output_type": "stream",
     "text": [
      "A Ana , Juan , María y a 3 más les gusta esto.\n"
     ]
    }
   ],
   "source": [
    "#EJERCICIO 5:\n",
    "\n",
    "def amigos_facebook(*amigos):\n",
    "    \n",
    "    nombres = []\n",
    "\n",
    "    for nombre in amigos:\n",
    "        nombres.append(nombre)\n",
    "    \n",
    "    if len(nombres) == 0:\n",
    "        print('A nadie le gusta esto.')\n",
    "    elif len(nombres) == 1:\n",
    "        print('A', nombres[0], 'le gusta esto.')\n",
    "    elif len(nombres) == 2:\n",
    "        print('A', nombres[0], 'y', nombres[1], 'les gusta esto.')\n",
    "    elif len(nombres) == 3:\n",
    "        print('A', nombres[0], ',', nombres[1],'y', nombres[2], 'les gusta esto.')\n",
    "    elif len(nombres) >=4:\n",
    "        print('A', nombres[0], ',', nombres[1],',', nombres[2],'y a',len(nombres[3:]), 'más les gusta esto.')\n",
    "\n",
    "amigos_facebook('Ana', 'Juan', 'María', 'Carlos','Tatiana', 'Luisa')\n"
   ]
  }
 ],
 "metadata": {
  "interpreter": {
   "hash": "916dbcbb3f70747c44a77c7bcd40155683ae19c65e1c03b4aa3499c5328201f1"
  },
  "kernelspec": {
   "display_name": "Python 3.8.10 64-bit",
   "language": "python",
   "name": "python3"
  },
  "language_info": {
   "codemirror_mode": {
    "name": "ipython",
    "version": 3
   },
   "file_extension": ".py",
   "mimetype": "text/x-python",
   "name": "python",
   "nbconvert_exporter": "python",
   "pygments_lexer": "ipython3",
   "version": "3.8.10"
  },
  "orig_nbformat": 4
 },
 "nbformat": 4,
 "nbformat_minor": 2
}
