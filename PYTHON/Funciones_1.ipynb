{
 "cells": [
  {
   "cell_type": "markdown",
   "metadata": {},
   "source": [
    "1. Cread una función que reciba 2 números enteros en forma de string como entrada, y dé como resultado la suma (también en forma de string)\n",
    "Condiciones:\n",
    "Si los dos parámetros que recibe la función son strings vacíos la función nos debe devolver \"0\"\n",
    "Si el primer parámetro es un string vacío, la función nos devuelve el valor del segundo parámetro y viceversa."
   ]
  },
  {
   "cell_type": "code",
   "execution_count": 3,
   "metadata": {},
   "outputs": [
    {
     "data": {
      "text/plain": [
       "'9'"
      ]
     },
     "execution_count": 3,
     "metadata": {},
     "output_type": "execute_result"
    }
   ],
   "source": [
    "#Ej1\n",
    "\n",
    "def suma(a,b):\n",
    "    \n",
    "    if a == '' and b == '':\n",
    "        return ('0')\n",
    "    if a == '' and b != '':\n",
    "        return b\n",
    "    if a != '' and b == '':\n",
    "        return a\n",
    "\n",
    "    suma = int(a) + int(b)\n",
    "    return str(suma)\n",
    "\n",
    "suma(2,7)"
   ]
  },
  {
   "cell_type": "markdown",
   "metadata": {},
   "source": [
    "2. El objetivo es comparar cada par de enteros de 2 listas, y devolver una nueva lista de números grandes.\n",
    "💡 Pista 💡 En Python existe el método zip."
   ]
  },
  {
   "cell_type": "code",
   "execution_count": 6,
   "metadata": {},
   "outputs": [
    {
     "name": "stdout",
     "output_type": "stream",
     "text": [
      "La lista 1 es: [13, 64, 15, 17, 88]\n",
      "La lista 2 es: [23, 14, 53, 17, 80]\n",
      "Longitud de la lista: 5\n",
      "Resultado: (23, 64, 53, 17, 88)\n"
     ]
    }
   ],
   "source": [
    "#Ej2: opción 1\n",
    "arr1 = [13, 64, 15, 17, 88]\n",
    "arr2 = [23, 14, 53, 17, 80]\n",
    "\n",
    "lista_zip = list(zip(arr1,arr2))\n",
    "\n",
    "print('La lista 1 es:',arr1)\n",
    "print('La lista 2 es:',arr2)\n",
    "\n",
    "numeros_grandes = []\n",
    "print('Longitud de la lista:',len(lista_zip))\n",
    "\n",
    "\n",
    "nummax = max(lista_zip[0]), max(lista_zip[1]), max(lista_zip[2]), max(lista_zip[3]), max(lista_zip[4])\n",
    "print('Resultado:', nummax)\n",
    "    "
   ]
  },
  {
   "cell_type": "code",
   "execution_count": 1,
   "metadata": {},
   "outputs": [
    {
     "name": "stdout",
     "output_type": "stream",
     "text": [
      "Resultado:  [23, 64, 53, 17, 88]\n"
     ]
    }
   ],
   "source": [
    "#Ejercicio2: opción 2.\n",
    "\n",
    "arr1 = [13, 64, 15, 17, 88]\n",
    "arr2 = [23, 14, 53, 17, 80]\n",
    "\n",
    "lista = list(zip(arr1, arr2))\n",
    "mayor =[]\n",
    "\n",
    "if lista[0][0]>=lista[0][1]: \n",
    "    mayor.append(lista[0][0])\n",
    "if lista[0][0]<lista[0][1]: \n",
    "    mayor.append(lista[0][1])\n",
    "\n",
    "if lista[1][0]>=lista[1][1]: \n",
    "    mayor.append(lista[1][0])\n",
    "if lista[1][0]<lista[1][1]: \n",
    "    mayor.append(lista[1][0])\n",
    "\n",
    "if lista[2][0]>=lista[2][1]: \n",
    "    mayor.append(lista[2][0])\n",
    "if lista[2][0]<lista[2][1]: \n",
    "    mayor.append(lista[2][1])\n",
    "\n",
    "if lista[3][0]>=lista[3][1]: \n",
    "    mayor.append(lista[3][0])\n",
    "if lista[3][0]<lista[3][1]: \n",
    "    mayor.append(lista[3][0])\n",
    "\n",
    "if lista[4][0]>=lista[4][1]: \n",
    "    mayor.append(lista[4][0])\n",
    "if lista[4][0]<lista[4][1]: \n",
    "    mayor.append(lista[4][0])\n",
    "\n",
    "print(\"Resultado: \", mayor)"
   ]
  },
  {
   "cell_type": "markdown",
   "metadata": {},
   "source": [
    "3. El objetivo de este ejercicio es convertir una string en un nuevo string en la que cada carácter de la nueva string es \"(\" si ese carácter aparece sólo una vez en la string original, o \")\" si ese carácter aparece más de una vez en la string original. Nuestro código no tiene que ser case sensitive, es decir, si hay una letra en mayúscula y en minúscula cuenta como dos apariciones.\n",
    "\n",
    "💡 Pista 💡 Aunque no hayamos visto todavía los métodos de los strings, este tipo de datos es un poco especial y tiene un montón de métodos propios. Entre ellos está el método count que nos puede ser suuuper últil en este ejercicio."
   ]
  },
  {
   "cell_type": "code",
   "execution_count": 9,
   "metadata": {},
   "outputs": [
    {
     "name": "stdout",
     "output_type": "stream",
     "text": [
      "catcus = ())())\n"
     ]
    }
   ],
   "source": [
    "#Ejercicio 3:\n",
    "\n",
    "def listaparentesis(palabra):\n",
    "\n",
    "    caracteres = ''\n",
    "\n",
    "    for letra in palabra:\n",
    "        if palabra.count(str(letra)) >1:\n",
    "            caracteres += '('\n",
    "        elif palabra.count(str(letra)) == 1:\n",
    "            caracteres += ')'\n",
    "            \n",
    "    print(palabra, '=', caracteres)\n",
    "\n",
    "\n",
    "\n",
    "listaparentesis('catcus')"
   ]
  }
 ],
 "metadata": {
  "interpreter": {
   "hash": "916dbcbb3f70747c44a77c7bcd40155683ae19c65e1c03b4aa3499c5328201f1"
  },
  "kernelspec": {
   "display_name": "Python 3.8.10 64-bit",
   "language": "python",
   "name": "python3"
  },
  "language_info": {
   "codemirror_mode": {
    "name": "ipython",
    "version": 3
   },
   "file_extension": ".py",
   "mimetype": "text/x-python",
   "name": "python",
   "nbconvert_exporter": "python",
   "pygments_lexer": "ipython3",
   "version": "3.8.10"
  },
  "orig_nbformat": 4
 },
 "nbformat": 4,
 "nbformat_minor": 2
}
