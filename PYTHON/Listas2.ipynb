{
 "cells": [
  {
   "cell_type": "code",
   "execution_count": 4,
   "metadata": {},
   "outputs": [
    {
     "name": "stdout",
     "output_type": "stream",
     "text": [
      "¡Comencemos el juego!\n",
      "La lista aleatoria tiene 15 números del  0 al 20\n",
      "\n",
      "Has introducido el  3\n",
      "\n",
      "¿Has adivinado el numero secreto?\n",
      "True\n",
      "\n",
      "Estaba en el sitio 13, índice 12.\n",
      "Terminamos el juego. La lista era [8, 14, 9, 0, 10, 11, 18, 5, 2, 13, 6, 1, 3, 16, 4]\n"
     ]
    }
   ],
   "source": [
    "import random\n",
    "\n",
    "# Variables numéricas\n",
    "index = -1\n",
    "lim_inferior = 0\n",
    "lim_superior = 20\n",
    "longitud_lista = 15 \n",
    "\n",
    "# Cadenas fijas de texto\n",
    "Bienvenida = ('¡Comencemos el juego!')\n",
    "Explicacion = ('La lista aleatoria tiene 15 números del ')\n",
    "Numero_usuario = ('Has introducido el ')\n",
    "pregunta = ('¿Has adivinado el numero secreto?')\n",
    "ubicacion = ('Estaba en el sitio ')\n",
    "Fin = ('Terminamos el juego. La lista era')\n",
    "\n",
    "# User input\n",
    "intento = int(input('Introduce un número del 0 al 20'))\n",
    "\n",
    "# Cantidades calculadas\n",
    "num_list = random.sample(range(lim_inferior, lim_superior), longitud_lista)\n",
    "\n",
    "# Inicio del juego\n",
    "print(Bienvenida)\n",
    "\n",
    "# Propiedades de la lista aleatoria\n",
    "print(Explicacion, lim_inferior, 'al', lim_superior)\n",
    "print('')\n",
    "\n",
    "# Han adivinado un elemento?\n",
    "print(Numero_usuario, intento)\n",
    "print('')\n",
    "print(pregunta)\n",
    "print(intento in num_list)\n",
    "print('')\n",
    "\n",
    "# Si adivinaron uno, dónde estaba?\n",
    "if num_list.count(intento): \n",
    "    index = num_list.index(intento)\n",
    "if index >= 0: \n",
    "    print(\"Estaba en el sitio\", str(index+1) + \", índice\", str(index)+\".\")\n",
    "\n",
    "\n",
    "# Fin del juego\n",
    "print(Fin, num_list)"
   ]
  }
 ],
 "metadata": {
  "interpreter": {
   "hash": "916dbcbb3f70747c44a77c7bcd40155683ae19c65e1c03b4aa3499c5328201f1"
  },
  "kernelspec": {
   "display_name": "Python 3.8.10 64-bit",
   "language": "python",
   "name": "python3"
  },
  "language_info": {
   "codemirror_mode": {
    "name": "ipython",
    "version": 3
   },
   "file_extension": ".py",
   "mimetype": "text/x-python",
   "name": "python",
   "nbconvert_exporter": "python",
   "pygments_lexer": "ipython3",
   "version": "3.8.10"
  },
  "orig_nbformat": 4
 },
 "nbformat": 4,
 "nbformat_minor": 2
}
